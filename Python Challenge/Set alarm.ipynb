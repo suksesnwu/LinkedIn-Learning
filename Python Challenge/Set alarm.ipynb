{
 "cells": [
  {
   "cell_type": "markdown",
   "metadata": {},
   "source": [
    "# Set an alarm"
   ]
  },
  {
   "cell_type": "code",
   "execution_count": 2,
   "metadata": {},
   "outputs": [
    {
     "name": "stdout",
     "output_type": "stream",
     "text": [
      "Alarm set for Tue Sep 13 22:06:41 2022\n",
      "Wake up!\n"
     ]
    }
   ],
   "source": [
    "import sched\n",
    "import time\n",
    "import winsound as ws\n",
    "\n",
    "\n",
    "def set_alarm(alarm_time, wav_file, message):\n",
    "    s = sched.scheduler(time.time, time.sleep)\n",
    "    s.enterabs(alarm_time, 1, print, argument=(message,))\n",
    "    s.enterabs(alarm_time, 1, ws.PlaySound, argument=(wav_file, ws.SND_FILENAME))\n",
    "    print('Alarm set for', time.asctime(time.localtime(alarm_time)))\n",
    "    s.run()\n",
    "    \n",
    "set_alarm(time.time()+15, 'alarm.wav', 'Wake up!')\n",
    "    \n",
    "\n",
    " "
   ]
  }
 ],
 "metadata": {
  "kernelspec": {
   "display_name": "Python 3.9.12 ('base')",
   "language": "python",
   "name": "python3"
  },
  "language_info": {
   "codemirror_mode": {
    "name": "ipython",
    "version": 3
   },
   "file_extension": ".py",
   "mimetype": "text/x-python",
   "name": "python",
   "nbconvert_exporter": "python",
   "pygments_lexer": "ipython3",
   "version": "3.9.12"
  },
  "orig_nbformat": 4,
  "vscode": {
   "interpreter": {
    "hash": "1dd540076b5c1bd53719c9edeb8b0b3e359e9d4cc221076454d878e73e000352"
   }
  }
 },
 "nbformat": 4,
 "nbformat_minor": 2
}
