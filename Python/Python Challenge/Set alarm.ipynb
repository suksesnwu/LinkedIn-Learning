{
 "cells": [
  {
   "cell_type": "markdown",
   "metadata": {},
   "source": [
    "# Set an alarm"
   ]
  },
  {
   "cell_type": "code",
   "execution_count": 8,
   "metadata": {},
   "outputs": [
    {
     "name": "stdout",
     "output_type": "stream",
     "text": [
      "Alarm set for Wed Sep 14 22:31:26 2022\n",
      "Wake up!\n"
     ]
    },
    {
     "ename": "AttributeError",
     "evalue": "module 'sched' has no attribute 'run_pending'",
     "output_type": "error",
     "traceback": [
      "\u001b[1;31m---------------------------------------------------------------------------\u001b[0m",
      "\u001b[1;31mAttributeError\u001b[0m                            Traceback (most recent call last)",
      "\u001b[1;32mc:\\Users\\600g1sff\\3D Objects\\LinkedIn Learning\\Python\\Python Challenge\\Set alarm.ipynb Cell 2\u001b[0m in \u001b[0;36m<cell line: 14>\u001b[1;34m()\u001b[0m\n\u001b[0;32m     <a href='vscode-notebook-cell:/c%3A/Users/600g1sff/3D%20Objects/LinkedIn%20Learning/Python/Python%20Challenge/Set%20alarm.ipynb#W1sZmlsZQ%3D%3D?line=10'>11</a>\u001b[0m set_alarm(time\u001b[39m.\u001b[39mtime()\u001b[39m+\u001b[39m\u001b[39m15\u001b[39m, \u001b[39m'\u001b[39m\u001b[39malarm.wav\u001b[39m\u001b[39m'\u001b[39m, \u001b[39m'\u001b[39m\u001b[39mWake up!\u001b[39m\u001b[39m'\u001b[39m)\n\u001b[0;32m     <a href='vscode-notebook-cell:/c%3A/Users/600g1sff/3D%20Objects/LinkedIn%20Learning/Python/Python%20Challenge/Set%20alarm.ipynb#W1sZmlsZQ%3D%3D?line=12'>13</a>\u001b[0m \u001b[39mwhile\u001b[39;00m \u001b[39m1\u001b[39m:\n\u001b[1;32m---> <a href='vscode-notebook-cell:/c%3A/Users/600g1sff/3D%20Objects/LinkedIn%20Learning/Python/Python%20Challenge/Set%20alarm.ipynb#W1sZmlsZQ%3D%3D?line=13'>14</a>\u001b[0m     sched\u001b[39m.\u001b[39;49mrun_pending()\n\u001b[0;32m     <a href='vscode-notebook-cell:/c%3A/Users/600g1sff/3D%20Objects/LinkedIn%20Learning/Python/Python%20Challenge/Set%20alarm.ipynb#W1sZmlsZQ%3D%3D?line=14'>15</a>\u001b[0m     time\u001b[39m.\u001b[39msleep(\u001b[39m1\u001b[39m)\n",
      "\u001b[1;31mAttributeError\u001b[0m: module 'sched' has no attribute 'run_pending'"
     ]
    }
   ],
   "source": [
    "import sched\n",
    "import time\n",
    "import winsound as ws\n",
    "def set_alarm(alarm_time, wav_file, message):\n",
    "    s = sched.scheduler(time.time, time.sleep)\n",
    "    s.enterabs(alarm_time, 1, print, argument=(message,))\n",
    "    s.enterabs(alarm_time, 1, ws.PlaySound, argument=(wav_file, ws.SND_FILENAME))\n",
    "    print('Alarm set for', time.asctime(time.localtime(alarm_time)))\n",
    "    s.run()\n",
    "    \n",
    "set_alarm(time.time()+15, 'alarm.wav', 'Wake up!')\n",
    "\n"
   ]
  }
 ],
 "metadata": {
  "kernelspec": {
   "display_name": "Python 3.9.12 ('base')",
   "language": "python",
   "name": "python3"
  },
  "language_info": {
   "name": "python",
   "version": "3.9.12"
  },
  "orig_nbformat": 4,
  "vscode": {
   "interpreter": {
    "hash": "1dd540076b5c1bd53719c9edeb8b0b3e359e9d4cc221076454d878e73e000352"
   }
  }
 },
 "nbformat": 4,
 "nbformat_minor": 2
}
