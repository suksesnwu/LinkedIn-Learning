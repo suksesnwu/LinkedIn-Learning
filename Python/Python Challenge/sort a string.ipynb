{
 "cells": [
  {
   "cell_type": "code",
   "execution_count": 2,
   "metadata": {},
   "outputs": [
    {
     "name": "stdout",
     "output_type": "stream",
     "text": [
      "about ace I'm test that to tommorrow\n"
     ]
    }
   ],
   "source": [
    "def sort_words(input):\n",
    "    return ' '.join(sorted(input.split(), key = str.casefold))\n",
    "\n",
    "input = \"I'm about to ace that test tommorrow\"\n",
    "print(sort_words(input))"
   ]
  },
  {
   "cell_type": "code",
   "execution_count": null,
   "metadata": {},
   "outputs": [],
   "source": []
  }
 ],
 "metadata": {
  "kernelspec": {
   "display_name": "Python 3.10.6 64-bit",
   "language": "python",
   "name": "python3"
  },
  "language_info": {
   "codemirror_mode": {
    "name": "ipython",
    "version": 3
   },
   "file_extension": ".py",
   "mimetype": "text/x-python",
   "name": "python",
   "nbconvert_exporter": "python",
   "pygments_lexer": "ipython3",
   "version": "3.10.6"
  },
  "orig_nbformat": 4,
  "vscode": {
   "interpreter": {
    "hash": "ddcfc250aa63d5efcf98228a0681b117308858234a9fdd9438add64ef226bd83"
   }
  }
 },
 "nbformat": 4,
 "nbformat_minor": 2
}
