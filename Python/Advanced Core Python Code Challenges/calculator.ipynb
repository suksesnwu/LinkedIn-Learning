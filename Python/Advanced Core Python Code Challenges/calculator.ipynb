{
 "cells": [
  {
   "cell_type": "markdown",
   "metadata": {},
   "source": [
    "# Context managers: Calculator"
   ]
  },
  {
   "cell_type": "code",
   "execution_count": 2,
   "metadata": {},
   "outputs": [],
   "source": [
    "class Calculator:\n",
    "    def __init__(self, *exec_types):\n",
    "        self.exc_types = exec_types\n",
    "    #dunder enter\n",
    "    def __enter__(self): \n",
    "        return self\n",
    "    #dunder exit\n",
    "    def __exit__(self, exc_type, exc_value, exc__traceback):\n",
    "        self.error = exc_value\n",
    "        return isinstance(exc_value, self.exc_types)"
   ]
  },
  {
   "cell_type": "code",
   "execution_count": null,
   "metadata": {},
   "outputs": [],
   "source": []
  }
 ],
 "metadata": {
  "kernelspec": {
   "display_name": "Python 3.10.6 64-bit",
   "language": "python",
   "name": "python3"
  },
  "language_info": {
   "codemirror_mode": {
    "name": "ipython",
    "version": 3
   },
   "file_extension": ".py",
   "mimetype": "text/x-python",
   "name": "python",
   "nbconvert_exporter": "python",
   "pygments_lexer": "ipython3",
   "version": "3.10.6"
  },
  "orig_nbformat": 4,
  "vscode": {
   "interpreter": {
    "hash": "ddcfc250aa63d5efcf98228a0681b117308858234a9fdd9438add64ef226bd83"
   }
  }
 },
 "nbformat": 4,
 "nbformat_minor": 2
}
