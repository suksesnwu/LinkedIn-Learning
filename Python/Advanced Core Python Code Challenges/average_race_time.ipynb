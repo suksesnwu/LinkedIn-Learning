{
 "cells": [
  {
   "cell_type": "markdown",
   "metadata": {},
   "source": [
    "# Find a runner's average race time"
   ]
  },
  {
   "cell_type": "code",
   "execution_count": null,
   "metadata": {},
   "outputs": [],
   "source": [
    "import re\n",
    "import datetime\n",
    "\n",
    "def get_data():\n",
    "    \"\"\"Return content from the 10k_racetimes.txt file\"\"\"\n",
    "    with open('10k_racetimes.txt', 'rt') as file:\n",
    "        content = file.read()\n",
    "    return content\n",
    "\n",
    "def get_rhines_times():\n",
    "    \"\"\"Return a list of Jennifer Rhines' race times\"\"\"\n",
    "    races = get_data()\n",
    "    \n",
    "    #solution\n",
    "    races = get_data()\n",
    "    rhines_times = []\n",
    "    def get_time(line):\n",
    "        return re.findall(r'\\d{2}:\\S+', line)[0]\n",
    "    \n",
    "    for line in races.splitlines():\n",
    "        if 'Jennifer Rhines' in line:\n",
    "            rhines_times.append(get_time(line))\n",
    "    return rhines_times\n",
    "\n",
    "def get_average():\n",
    "    \"\"\"Return Jennifer Rhines' average race time in the format:\n",
    "       mm:ss:M where :\n",
    "       m corresponds to a minutes digit\n",
    "       s corresponds to a seconds digit\n",
    "       M corresponds to a milliseconds digit (no rounding, just the single digit)\"\"\"\n",
    "    racetimes = get_rhines_times()\n",
    "    \n",
    "    #solution\n",
    "    racetimes = get_rhines_times()\n",
    "    total = datetime.timedelta()\n",
    "    for racetime in racetimes:\n",
    "        try:\n",
    "            mins, secs, ms = re.split(r'[:.]', racetime)\n",
    "            total += datetime.timedelta(minutes=int(mins), seconds=int(secs), milliseconds=int(ms))\n",
    "        except ValueError:\n",
    "            mins, secs = re.split(r'[:.]', racetime)\n",
    "            total += datetime.timedelta(minutes=int(mins), seconds=int(secs))\n",
    "            \n",
    "        \n",
    "    return f'{total / len(racetimes)}'[2:-5]\n",
    "            "
   ]
  }
 ],
 "metadata": {
  "kernelspec": {
   "display_name": "Python 3.9.12 ('base')",
   "language": "python",
   "name": "python3"
  },
  "language_info": {
   "name": "python",
   "version": "3.9.12"
  },
  "orig_nbformat": 4,
  "vscode": {
   "interpreter": {
    "hash": "1dd540076b5c1bd53719c9edeb8b0b3e359e9d4cc221076454d878e73e000352"
   }
  }
 },
 "nbformat": 4,
 "nbformat_minor": 2
}
