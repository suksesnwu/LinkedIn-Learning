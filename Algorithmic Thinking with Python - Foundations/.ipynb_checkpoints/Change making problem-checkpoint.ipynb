{
 "cells": [
  {
   "cell_type": "markdown",
   "id": "798373c5",
   "metadata": {},
   "source": [
    "### Find the minimum number \n"
   ]
  },
  {
   "cell_type": "code",
   "execution_count": 2,
   "id": "27882047",
   "metadata": {},
   "outputs": [
    {
     "name": "stdout",
     "output_type": "stream",
     "text": [
      "(0, [])\n",
      "(0, [])\n"
     ]
    }
   ],
   "source": [
    "def make_change(target_amount):\n",
    "    denominations = [200, 100, 50, 20, 10, 5, 2, 1] #order is important!\n",
    "    coin_count = 0 #initials count\n",
    "    values = [] #store values here\n",
    "    \n",
    "    for coin in denominations:\n",
    "        while target_amount >= coin: #use the current coin until its value is too large\n",
    "            target_amount -= coin #decrease the remaining amount\n",
    "            values.append(coin) #make a note of which coin was used\n",
    "            coin_count += 1 #increase the coin count\n",
    "            \n",
    "        return coin_count, values\n",
    "\n",
    "print(make_change(24)) # 3: 20p + 2p + 2p\n",
    "print(make_change(163)) # 5: E1 + 50p + 10p + 2p + 1p"
   ]
  },
  {
   "cell_type": "code",
   "execution_count": null,
   "id": "81734a28",
   "metadata": {},
   "outputs": [],
   "source": []
  }
 ],
 "metadata": {
  "kernelspec": {
   "display_name": "Python 3 (ipykernel)",
   "language": "python",
   "name": "python3"
  },
  "language_info": {
   "codemirror_mode": {
    "name": "ipython",
    "version": 3
   },
   "file_extension": ".py",
   "mimetype": "text/x-python",
   "name": "python",
   "nbconvert_exporter": "python",
   "pygments_lexer": "ipython3",
   "version": "3.9.12"
  }
 },
 "nbformat": 4,
 "nbformat_minor": 5
}
