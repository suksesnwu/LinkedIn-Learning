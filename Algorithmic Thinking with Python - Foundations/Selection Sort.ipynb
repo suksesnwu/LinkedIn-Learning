{
 "cells": [
  {
   "cell_type": "code",
   "execution_count": 1,
   "id": "82184f30",
   "metadata": {},
   "outputs": [
    {
     "name": "stdout",
     "output_type": "stream",
     "text": [
      "[3, 2, 1, 5, 4]\n",
      "[3, 2, 1, 5, 4]\n",
      "False\n"
     ]
    }
   ],
   "source": [
    "def selection_sort(xs):\n",
    "    pass\n",
    "\n",
    "xs = [3, 2, 1, 5, 4]\n",
    "print(xs)\n",
    "selection_sort(xs)\n",
    "print(xs)\n",
    "\n",
    "#a nice pythonic way to check a list is sorted without relying on using \n",
    "#python's own sorting methods to compare.\n",
    "print(all(xs[i] <= xs[i + i] for i in range(len(xs) -1)))"
   ]
  },
  {
   "cell_type": "code",
   "execution_count": null,
   "id": "6b9e9a6e",
   "metadata": {},
   "outputs": [],
   "source": []
  }
 ],
 "metadata": {
  "kernelspec": {
   "display_name": "Python 3 (ipykernel)",
   "language": "python",
   "name": "python3"
  },
  "language_info": {
   "codemirror_mode": {
    "name": "ipython",
    "version": 3
   },
   "file_extension": ".py",
   "mimetype": "text/x-python",
   "name": "python",
   "nbconvert_exporter": "python",
   "pygments_lexer": "ipython3",
   "version": "3.9.12"
  }
 },
 "nbformat": 4,
 "nbformat_minor": 5
}
