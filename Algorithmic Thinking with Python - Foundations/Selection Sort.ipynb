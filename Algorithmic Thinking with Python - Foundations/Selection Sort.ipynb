{
 "cells": [
  {
   "cell_type": "code",
   "execution_count": 4,
   "id": "82184f30",
   "metadata": {},
   "outputs": [
    {
     "name": "stdout",
     "output_type": "stream",
     "text": [
      "[3, 2, 1, 5, 4]\n",
      "[1, 2, 3, 4, 5]\n",
      "True\n"
     ]
    }
   ],
   "source": [
    "def selection_sort(xs):\n",
    "    for i in range(len(xs) - 1): # The last value will automatically be in correct position.\n",
    "        #Find minimum value in unsorted region.\n",
    "        min_index = i;\n",
    "        for j in range(i + 1, len(xs)):\n",
    "            #Update min_index if the value at j is lower than current minimum value.\n",
    "            if xs[j] < xs[min_index]:\n",
    "                min_index = j\n",
    "        #After finding the minimum in the unsorted region, swap with the first unsorted value. \n",
    "        xs[i], xs[min_index] = xs[min_index], xs[i]\n",
    "\n",
    "xs = [3, 2, 1, 5, 4]\n",
    "print(xs)\n",
    "selection_sort(xs)\n",
    "print(xs)\n",
    "\n",
    "#a nice pythonic way to check a list is sorted without relying on using \n",
    "#python's own sorting methods to compare.\n",
    "print(all(xs[i] <= xs[i + 1] for i in range(len(xs) -1)))"
   ]
  },
  {
   "cell_type": "code",
   "execution_count": null,
   "id": "6b9e9a6e",
   "metadata": {},
   "outputs": [],
   "source": []
  }
 ],
 "metadata": {
  "kernelspec": {
   "display_name": "Python 3.10.6 64-bit",
   "language": "python",
   "name": "python3"
  },
  "language_info": {
   "codemirror_mode": {
    "name": "ipython",
    "version": 3
   },
   "file_extension": ".py",
   "mimetype": "text/x-python",
   "name": "python",
   "nbconvert_exporter": "python",
   "pygments_lexer": "ipython3",
   "version": "3.10.6"
  },
  "vscode": {
   "interpreter": {
    "hash": "ddcfc250aa63d5efcf98228a0681b117308858234a9fdd9438add64ef226bd83"
   }
  }
 },
 "nbformat": 4,
 "nbformat_minor": 5
}
