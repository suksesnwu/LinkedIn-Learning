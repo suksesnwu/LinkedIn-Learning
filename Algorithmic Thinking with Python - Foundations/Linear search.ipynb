{
 "cells": [
  {
   "cell_type": "code",
   "execution_count": 2,
   "id": "ef3acd61",
   "metadata": {},
   "outputs": [
    {
     "name": "stdout",
     "output_type": "stream",
     "text": [
      "Item found at position 4.\n"
     ]
    }
   ],
   "source": [
    "def linear_search(data, target):\n",
    "    for idx, val in enumerate(data):\n",
    "        if val == target:\n",
    "            return idx #early exit if item is found\n",
    "    return -1\n",
    "\n",
    "data = [4, 5, 2, 7, 1, 8]\n",
    "target = 1\n",
    "result = linear_search(data, target)\n",
    "if result == -1:\n",
    "    print(\"Item not found.\")\n",
    "else:\n",
    "    print(f\"Item found at position {result}.\")"
   ]
  },
  {
   "cell_type": "code",
   "execution_count": null,
   "id": "282f2274",
   "metadata": {},
   "outputs": [],
   "source": []
  }
 ],
 "metadata": {
  "kernelspec": {
   "display_name": "Python 3 (ipykernel)",
   "language": "python",
   "name": "python3"
  },
  "language_info": {
   "codemirror_mode": {
    "name": "ipython",
    "version": 3
   },
   "file_extension": ".py",
   "mimetype": "text/x-python",
   "name": "python",
   "nbconvert_exporter": "python",
   "pygments_lexer": "ipython3",
   "version": "3.9.12"
  }
 },
 "nbformat": 4,
 "nbformat_minor": 5
}
