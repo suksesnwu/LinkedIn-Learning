{
 "cells": [
  {
   "cell_type": "code",
   "execution_count": 4,
   "id": "a7b2323f",
   "metadata": {},
   "outputs": [
    {
     "name": "stdout",
     "output_type": "stream",
     "text": [
      "The minimum value is 1.5.\n"
     ]
    }
   ],
   "source": [
    "def find_min(xs):\n",
    "    min_index = 0\n",
    "    for i in range(len(xs)):\n",
    "        if xs[i] < xs[min_index]:\n",
    "            min_index = i\n",
    "    return xs[min_index]\n",
    "\n",
    "xs = [3, 2, 1.5, 5, 4]\n",
    "min_value = find_min(xs)\n",
    "print(f\"The minimum value is {min_value}.\")"
   ]
  },
  {
   "cell_type": "code",
   "execution_count": null,
   "id": "9b4b1b3c",
   "metadata": {},
   "outputs": [],
   "source": []
  }
 ],
 "metadata": {
  "kernelspec": {
   "display_name": "Python 3 (ipykernel)",
   "language": "python",
   "name": "python3"
  },
  "language_info": {
   "codemirror_mode": {
    "name": "ipython",
    "version": 3
   },
   "file_extension": ".py",
   "mimetype": "text/x-python",
   "name": "python",
   "nbconvert_exporter": "python",
   "pygments_lexer": "ipython3",
   "version": "3.9.12"
  }
 },
 "nbformat": 4,
 "nbformat_minor": 5
}
