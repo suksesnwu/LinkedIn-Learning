{
 "cells": [
  {
   "cell_type": "code",
   "execution_count": 1,
   "id": "404eda31",
   "metadata": {},
   "outputs": [
    {
     "name": "stdout",
     "output_type": "stream",
     "text": [
      "1\n",
      "4\n",
      "5\n",
      "8\n",
      "9\n",
      "12\n",
      "13\n",
      "16\n",
      "17\n",
      "20\n",
      "21\n",
      "24\n",
      "25\n",
      "28\n",
      "29\n",
      "32\n",
      "33\n",
      "36\n",
      "37\n",
      "40\n",
      "41\n",
      "44\n",
      "45\n",
      "48\n",
      "49\n",
      "52\n",
      "53\n",
      "56\n",
      "57\n",
      "60\n",
      "61\n",
      "64\n",
      "65\n",
      "68\n",
      "69\n",
      "72\n",
      "73\n",
      "76\n",
      "77\n",
      "80\n",
      "81\n",
      "84\n",
      "85\n",
      "88\n",
      "89\n",
      "92\n",
      "93\n",
      "96\n",
      "97\n",
      "100\n"
     ]
    }
   ],
   "source": [
    "for i in range(1, 101):\n",
    "    if i & 2 == 0:\n",
    "        print(i)"
   ]
  },
  {
   "cell_type": "code",
   "execution_count": null,
   "id": "19624a45",
   "metadata": {},
   "outputs": [],
   "source": [
    "for i in range(2, 101, 2):\n",
    "    print(i)"
   ]
  }
 ],
 "metadata": {
  "kernelspec": {
   "display_name": "Python 3 (ipykernel)",
   "language": "python",
   "name": "python3"
  },
  "language_info": {
   "codemirror_mode": {
    "name": "ipython",
    "version": 3
   },
   "file_extension": ".py",
   "mimetype": "text/x-python",
   "name": "python",
   "nbconvert_exporter": "python",
   "pygments_lexer": "ipython3",
   "version": "3.9.12"
  }
 },
 "nbformat": 4,
 "nbformat_minor": 5
}
